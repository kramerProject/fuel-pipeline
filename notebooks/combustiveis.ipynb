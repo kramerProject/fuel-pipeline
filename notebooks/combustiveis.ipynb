{
 "cells": [
  {
   "cell_type": "code",
   "execution_count": null,
   "id": "4e315729-b135-4545-81ec-753cddd34a77",
   "metadata": {},
   "outputs": [],
   "source": [
    "from pyspark import SparkConf, SparkContext\n",
    "from pyspark.sql import SparkSession\n",
    "from pyspark.sql import functions as f"
   ]
  },
  {
   "cell_type": "code",
   "execution_count": null,
   "id": "7cc3760d-e576-4be3-ad1a-b21dd4ac8306",
   "metadata": {},
   "outputs": [],
   "source": [
    "spark = (\n",
    "    SparkSession\n",
    "    .builder\n",
    "    .appName(\"combustiveis_app\")\n",
    "    .config(\"extraJavaOptions\", \"-Dcom.amazonaws.services.s3.enableV4=true,-Divy.cache.dir=/tmp,-Divy.home=/tmp\")\n",
    "    .config(\"spark.executor.extraJavaOptions\", \"-Dcom.amazonaws.services.s3.enableV4=true\")\n",
    "    .enableHiveSupport()\n",
    "    .getOrCreate()\n",
    ")\n",
    "spark.sparkContext.setLogLevel(\"WARN\")"
   ]
  },
  {
   "cell_type": "code",
   "execution_count": null,
   "id": "5e01957e-9380-4c97-862f-8bda96bd807e",
   "metadata": {},
   "outputs": [],
   "source": [
    "conf = spark.sparkContext._jsc.hadoopConfiguration()\n",
    "conf.set(\"fs.s3a.impl\", \"org.apache.hadoop.fs.s3a.S3AFileSystem\")\n",
    "conf.set(\"fs.s3a.fast.upload:\", \"true\")"
   ]
  },
  {
   "cell_type": "code",
   "execution_count": null,
   "id": "6fbfe9d1",
   "metadata": {},
   "outputs": [],
   "source": [
    "BUCKET_LANDING = \"<YOUR-LADING-ZONE-BUCKET>\"\n",
    "BUCKET_PROCESSING = \"<YOUR-PROCESSING-ZONE-BUCKET>\""
   ]
  },
  {
   "cell_type": "code",
   "execution_count": null,
   "id": "99f13825-32c1-4bce-9f65-4f281a32fb19",
   "metadata": {},
   "outputs": [],
   "source": [
    "df_landing = (\n",
    "    spark\n",
    "    .read\n",
    "    .format(\"csv\")\n",
    "    .options(header='true', inferSchema='true', delimiter=';')\n",
    "    .load(f\"s3a://{BUCKET_LANDING}/combustiveis/ca-2016-01.csv\")\n",
    ")"
   ]
  },
  {
   "cell_type": "code",
   "execution_count": null,
   "id": "829b5bc6-3583-4b4d-9c0e-bc7b001d745e",
   "metadata": {},
   "outputs": [],
   "source": [
    "df_landing.printSchema()"
   ]
  },
  {
   "cell_type": "code",
   "execution_count": null,
   "id": "85cc2f37-8180-434e-9206-a5affd7eef89",
   "metadata": {},
   "outputs": [],
   "source": [
    "df_landing.count()"
   ]
  },
  {
   "cell_type": "code",
   "execution_count": null,
   "id": "ae16114e-1529-4d6e-8d9a-5d3cd6906bd4",
   "metadata": {},
   "outputs": [],
   "source": [
    "df_processing = (\n",
    "    spark\n",
    "    .read\n",
    "    .format(\"parquet\")\n",
    "    .load(f\"s3a://{BUCKET_PROCESSING}/combustiveis/\")\n",
    ")"
   ]
  },
  {
   "cell_type": "code",
   "execution_count": null,
   "id": "c1a38043-55bd-489b-834f-d63ab37bf1a7",
   "metadata": {},
   "outputs": [],
   "source": [
    "df_processing.printSchema()"
   ]
  },
  {
   "cell_type": "code",
   "execution_count": null,
   "id": "79217ce1-82ac-47f9-b180-a55a186dbec1",
   "metadata": {},
   "outputs": [],
   "source": [
    "df_processing.count()"
   ]
  },
  {
   "cell_type": "code",
   "execution_count": null,
   "id": "3a0e460e-cbb4-495c-a44f-ad4024f1fbbf",
   "metadata": {},
   "outputs": [],
   "source": [
    "df_processing_2016_01 =  df_processing.where(f.col('file_name') == f's3a://{BUCKET_LANDING}/combustiveis/ca-2016-01.csv')"
   ]
  },
  {
   "cell_type": "code",
   "execution_count": null,
   "id": "43a820a8-4966-48ee-ae3f-5f8ab54b4462",
   "metadata": {},
   "outputs": [],
   "source": [
    "(\n",
    "    df_processing_2016_01\n",
    "    .select(\"estado_sigla\", \"valor_de_venda\", \"valor_de_compra\")\n",
    "    .groupBy('estado_sigla')\n",
    "    .mean().show(30)\n",
    ")"
   ]
  }
 ],
 "metadata": {
  "kernelspec": {
   "display_name": "a3env",
   "language": "python",
   "name": "python3"
  },
  "language_info": {
   "codemirror_mode": {
    "name": "ipython",
    "version": 3
   },
   "file_extension": ".py",
   "mimetype": "text/x-python",
   "name": "python",
   "nbconvert_exporter": "python",
   "pygments_lexer": "ipython3",
   "version": "3.9.7 (default, Sep 16 2021, 13:09:58) \n[GCC 7.5.0]"
  },
  "vscode": {
   "interpreter": {
    "hash": "1db84768d5cb0c4c720156232594fe0a40b8abee57a5f929286ded61845768a2"
   }
  }
 },
 "nbformat": 4,
 "nbformat_minor": 5
}
